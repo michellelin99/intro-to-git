{
  "nbformat": 4,
  "nbformat_minor": 0,
  "metadata": {
    "colab": {
      "name": "Threads.ipynb",
      "provenance": [],
      "authorship_tag": "ABX9TyNxoIOEXK/lidsMLcsLNM79",
      "include_colab_link": true
    },
    "kernelspec": {
      "name": "python3",
      "display_name": "Python 3"
    },
    "language_info": {
      "name": "python"
    }
  },
  "cells": [
    {
      "cell_type": "markdown",
      "metadata": {
        "id": "view-in-github",
        "colab_type": "text"
      },
      "source": [
        "<a href=\"https://colab.research.google.com/github/michellelin99/intro-to-git/blob/main/threads/Threads.ipynb\" target=\"_parent\"><img src=\"https://colab.research.google.com/assets/colab-badge.svg\" alt=\"Open In Colab\"/></a>"
      ]
    },
    {
      "cell_type": "code",
      "execution_count": 2,
      "metadata": {
        "id": "uX2o2jHa2Jrr"
      },
      "outputs": [],
      "source": [
        "import logging\n",
        "import threading\n",
        "import time"
      ]
    },
    {
      "cell_type": "code",
      "source": [
        "def thread_function(name):\n",
        "    logging.info(\"Thread %s: starting\", name)\n",
        "    time.sleep(2)\n",
        "    logging.info(\"Thread %s: finishing\", name)\n",
        "\n",
        "def main():\n",
        "    format = \"%(asctime)s: %(message)s\"\n",
        "    logging.basicConfig(format=format, level=logging.INFO,\n",
        "                        datefmt=\"%H:%M:%S\")\n",
        "\n",
        "    logging.info(\"Main    : before creating thread\")\n",
        "\n",
        "    threads = list()\n",
        "    for index in range(3):\n",
        "        logging.info(\"Main    : create and start thread %d.\", index)\n",
        "        x = threading.Thread(target=thread_function, args=(index,))\n",
        "        threads.append(x)\n",
        "        x.start()\n",
        "\n",
        "    for index, thread in enumerate(threads):\n",
        "        logging.info(\"Main    : before joining thread %d.\", index)\n",
        "        thread.join()\n",
        "        logging.info(\"Main    : thread %d done\", index)\n",
        "\n",
        "    logging.info(\"Main    : after all threads done\")\n",
        "\n",
        "# call main\n",
        "\n",
        "main()"
      ],
      "metadata": {
        "colab": {
          "base_uri": "https://localhost:8080/"
        },
        "id": "uFu5TdIA2Wpc",
        "outputId": "831bf70e-bd61-422a-ddb7-278e5bea6ce6"
      },
      "execution_count": 10,
      "outputs": [
        {
          "output_type": "stream",
          "name": "stderr",
          "text": [
            "20:55:19: Main    : before creating thread\n",
            "20:55:19: Main    : create and start thread 0.\n",
            "20:55:19: Thread 0: starting\n",
            "20:55:19: Main    : create and start thread 1.\n",
            "20:55:19: Thread 1: starting\n",
            "20:55:19: Main    : create and start thread 2.\n",
            "20:55:19: Thread 2: starting\n",
            "20:55:19: Main    : before joining thread 0.\n",
            "20:55:21: Thread 0: finishing\n",
            "20:55:21: Main    : thread 0 done\n",
            "20:55:21: Main    : before joining thread 1.\n",
            "20:55:21: Thread 1: finishing\n",
            "20:55:21: Main    : thread 1 done\n",
            "20:55:21: Main    : before joining thread 2.\n",
            "20:55:21: Thread 2: finishing\n",
            "20:55:21: Main    : thread 2 done\n",
            "20:55:21: Main    : after all threads done\n"
          ]
        }
      ]
    }
  ]
}